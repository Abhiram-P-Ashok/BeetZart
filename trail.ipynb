{
 "cells": [
  {
   "cell_type": "code",
   "execution_count": 2,
   "metadata": {},
   "outputs": [
    {
     "data": {
      "text/plain": [
       "<_io.BufferedRandom name='MIDI-Unprocessed_SMF_02_R1_2004_01-05_ORIG_MID--AUDIO_02_R1_2004_05_Track05_wav.wav'>"
      ]
     },
     "execution_count": 2,
     "metadata": {},
     "output_type": "execute_result"
    }
   ],
   "source": [
    "from collections import defaultdict\n",
    "from mido import MidiFile\n",
    "from pydub import AudioSegment\n",
    "from pydub.generators import Sine\n",
    "\n",
    "def note_to_freq(note, concert_A=440.0):\n",
    "  '''\n",
    "  from wikipedia: http://en.wikipedia.org/wiki/MIDI_Tuning_Standard#Frequency_values\n",
    "  '''\n",
    "  return (2.0 ** ((note - 69) / 12.0)) * concert_A\n",
    "\n",
    "mid = MidiFile(\"maestro-v3.0.0/2004/MIDI-Unprocessed_SMF_02_R1_2004_01-05_ORIG_MID--AUDIO_02_R1_2004_05_Track05_wav.midi\")\n",
    "output = AudioSegment.silent(mid.length * 1000.0)\n",
    "\n",
    "tempo = 100 # bpm\n",
    "\n",
    "def ticks_to_ms(ticks):\n",
    "  tick_ms = (60000.0 / tempo) / mid.ticks_per_beat\n",
    "  return ticks * tick_ms\n",
    "  \n",
    "\n",
    "for track in mid.tracks:\n",
    "  # position of rendering in ms\n",
    "  current_pos = 0.0\n",
    "\n",
    "  current_notes = defaultdict(dict)\n",
    "  # current_notes = {\n",
    "  #   channel: {\n",
    "  #     note: (start_time, message)\n",
    "  #   }\n",
    "  # }\n",
    "  \n",
    "  for msg in track:\n",
    "    current_pos += ticks_to_ms(msg.time)\n",
    "\n",
    "    if msg.type == 'note_on':\n",
    "      current_notes[msg.channel][msg.note] = (current_pos, msg)\n",
    "    \n",
    "    if msg.type == 'note_off':\n",
    "      start_pos, start_msg = current_notes[msg.channel].pop(msg.note)\n",
    "  \n",
    "      duration = current_pos - start_pos\n",
    "  \n",
    "      signal_generator = Sine(note_to_freq(msg.note))\n",
    "      rendered = signal_generator.to_audio_segment(duration=duration-50, volume=-20).fade_out(100).fade_in(30)\n",
    "\n",
    "      output = output.overlay(rendered, start_pos)\n",
    "\n",
    "output.export(\"MIDI-Unprocessed_SMF_02_R1_2004_01-05_ORIG_MID--AUDIO_02_R1_2004_05_Track05_wav.wav\", format=\"wav\")"
   ]
  },
  {
   "cell_type": "code",
   "execution_count": null,
   "metadata": {},
   "outputs": [],
   "source": []
  }
 ],
 "metadata": {
  "kernelspec": {
   "display_name": "Python 3",
   "language": "python",
   "name": "python3"
  },
  "language_info": {
   "codemirror_mode": {
    "name": "ipython",
    "version": 3
   },
   "file_extension": ".py",
   "mimetype": "text/x-python",
   "name": "python",
   "nbconvert_exporter": "python",
   "pygments_lexer": "ipython3",
   "version": "3.11.9"
  }
 },
 "nbformat": 4,
 "nbformat_minor": 2
}
