{
  "cells": [
    {
      "cell_type": "markdown",
      "metadata": {
        "id": "view-in-github",
        "colab_type": "text"
      },
      "source": [
        "<a href=\"https://colab.research.google.com/github/Stalinosmj/BeetZart/blob/main/revision.ipynb\" target=\"_parent\"><img src=\"https://colab.research.google.com/assets/colab-badge.svg\" alt=\"Open In Colab\"/></a>"
      ]
    },
    {
      "cell_type": "markdown",
      "source": [
        "# Importing Libraries😊😊"
      ],
      "metadata": {
        "id": "YhL4JoGU5jsC"
      }
    },
    {
      "cell_type": "markdown",
      "source": [
        "Restart"
      ],
      "metadata": {
        "id": "lls9xzym6DIt"
      }
    },
    {
      "cell_type": "code",
      "source": [
        "!pip install pyFluidSynth"
      ],
      "metadata": {
        "colab": {
          "base_uri": "https://localhost:8080/"
        },
        "id": "2tcZZsdP6ZjM",
        "outputId": "284234fd-ba2b-4c30-ac7e-c395b103f718"
      },
      "execution_count": 20,
      "outputs": [
        {
          "output_type": "stream",
          "name": "stdout",
          "text": [
            "Requirement already satisfied: pyFluidSynth in /usr/local/lib/python3.10/dist-packages (1.3.3)\n",
            "Requirement already satisfied: numpy in /usr/local/lib/python3.10/dist-packages (from pyFluidSynth) (1.25.2)\n"
          ]
        }
      ]
    },
    {
      "cell_type": "code",
      "source": [
        "import fluidsynth\n",
        "import pretty_midi\n",
        "import numpy as np\n",
        "from scipy.io.wavfile import write\n",
        "import librosa\n",
        "import librosa.display\n",
        "import tensorflow as tf\n",
        "from tensorflow.keras.models import Sequential\n",
        "from tensorflow.keras.layers import Conv2D, MaxPooling2D, Flatten, Dense"
      ],
      "metadata": {
        "colab": {
          "base_uri": "https://localhost:8080/",
          "height": 526
        },
        "id": "MizSG-Pi6Bh3",
        "outputId": "b79dabb1-8948-4d09-aa00-8319073bba50"
      },
      "execution_count": 21,
      "outputs": [
        {
          "output_type": "error",
          "ename": "ImportError",
          "evalue": "Couldn't find the FluidSynth library.",
          "traceback": [
            "\u001b[0;31m---------------------------------------------------------------------------\u001b[0m",
            "\u001b[0;31mImportError\u001b[0m                               Traceback (most recent call last)",
            "\u001b[0;32m<ipython-input-21-348c1c2450be>\u001b[0m in \u001b[0;36m<cell line: 1>\u001b[0;34m()\u001b[0m\n\u001b[0;32m----> 1\u001b[0;31m \u001b[0;32mimport\u001b[0m \u001b[0mfluidsynth\u001b[0m\u001b[0;34m\u001b[0m\u001b[0;34m\u001b[0m\u001b[0m\n\u001b[0m\u001b[1;32m      2\u001b[0m \u001b[0;32mimport\u001b[0m \u001b[0mpretty_midi\u001b[0m\u001b[0;34m\u001b[0m\u001b[0;34m\u001b[0m\u001b[0m\n\u001b[1;32m      3\u001b[0m \u001b[0;32mimport\u001b[0m \u001b[0mnumpy\u001b[0m \u001b[0;32mas\u001b[0m \u001b[0mnp\u001b[0m\u001b[0;34m\u001b[0m\u001b[0;34m\u001b[0m\u001b[0m\n\u001b[1;32m      4\u001b[0m \u001b[0;32mfrom\u001b[0m \u001b[0mscipy\u001b[0m\u001b[0;34m.\u001b[0m\u001b[0mio\u001b[0m\u001b[0;34m.\u001b[0m\u001b[0mwavfile\u001b[0m \u001b[0;32mimport\u001b[0m \u001b[0mwrite\u001b[0m\u001b[0;34m\u001b[0m\u001b[0;34m\u001b[0m\u001b[0m\n\u001b[1;32m      5\u001b[0m \u001b[0;32mimport\u001b[0m \u001b[0mlibrosa\u001b[0m\u001b[0;34m\u001b[0m\u001b[0;34m\u001b[0m\u001b[0m\n",
            "\u001b[0;32m/usr/local/lib/python3.10/dist-packages/fluidsynth.py\u001b[0m in \u001b[0;36m<module>\u001b[0;34m\u001b[0m\n\u001b[1;32m     42\u001b[0m \u001b[0;34m\u001b[0m\u001b[0m\n\u001b[1;32m     43\u001b[0m \u001b[0;32mif\u001b[0m \u001b[0mlib\u001b[0m \u001b[0;32mis\u001b[0m \u001b[0;32mNone\u001b[0m\u001b[0;34m:\u001b[0m\u001b[0;34m\u001b[0m\u001b[0;34m\u001b[0m\u001b[0m\n\u001b[0;32m---> 44\u001b[0;31m     \u001b[0;32mraise\u001b[0m \u001b[0mImportError\u001b[0m\u001b[0;34m(\u001b[0m\u001b[0;34m\"Couldn't find the FluidSynth library.\"\u001b[0m\u001b[0;34m)\u001b[0m\u001b[0;34m\u001b[0m\u001b[0;34m\u001b[0m\u001b[0m\n\u001b[0m\u001b[1;32m     45\u001b[0m \u001b[0;34m\u001b[0m\u001b[0m\n\u001b[1;32m     46\u001b[0m \u001b[0;31m# Dynamically link the FluidSynth library\u001b[0m\u001b[0;34m\u001b[0m\u001b[0;34m\u001b[0m\u001b[0m\n",
            "\u001b[0;31mImportError\u001b[0m: Couldn't find the FluidSynth library.",
            "",
            "\u001b[0;31m---------------------------------------------------------------------------\u001b[0;32m\nNOTE: If your import is failing due to a missing package, you can\nmanually install dependencies using either !pip or !apt.\n\nTo view examples of installing some common dependencies, click the\n\"Open Examples\" button below.\n\u001b[0;31m---------------------------------------------------------------------------\u001b[0m\n"
          ],
          "errorDetails": {
            "actions": [
              {
                "action": "open_url",
                "actionText": "Open Examples",
                "url": "/notebooks/snippets/importing_libraries.ipynb"
              }
            ]
          }
        }
      ]
    },
    {
      "cell_type": "code",
      "source": [
        "# Load MIDI files and convert to raw audio\n",
        "def load_midi_to_audio(midi_file, sample_rate=22050):\n",
        "    midi_data = pretty_midi.PrettyMIDI(midi_file)\n",
        "    audio = midi_data.fluidsynth(sample_rate)\n",
        "    return audio"
      ],
      "metadata": {
        "id": "FHo0aYlZ6CKa"
      },
      "execution_count": 4,
      "outputs": []
    },
    {
      "cell_type": "code",
      "source": [
        "# Create spectrograms using short-time Fourier transform\n",
        "def create_stft_spectrogram(audio, window_size, hop_length):\n",
        "    stft = librosa.stft(audio, window=window_size, hop_length=hop_length)\n",
        "    spectrogram = np.abs(stft)\n",
        "    return spectrogram\n"
      ],
      "metadata": {
        "id": "92vDLmlU65Eo"
      },
      "execution_count": 5,
      "outputs": []
    },
    {
      "cell_type": "code",
      "source": [
        "# Create spectrograms using constant-Q transform\n",
        "def create_cqt_spectrogram(audio, hop_length):\n",
        "    cqt = librosa.cqt(audio, hop_length=hop_length)\n",
        "    spectrogram = np.abs(cqt)\n",
        "    return spectrogram\n"
      ],
      "metadata": {
        "id": "t5nGSYqv65ze"
      },
      "execution_count": 6,
      "outputs": []
    },
    {
      "cell_type": "code",
      "source": [
        "# Split audio and MIDI into one-second windows\n",
        "def split_into_one_second_windows(audio, midi, sample_rate):\n",
        "    num_windows = int(len(audio) / sample_rate)\n",
        "    audio_windows = []\n",
        "    midi_windows = []\n",
        "    for i in range(num_windows):\n",
        "        start = i * sample_rate\n",
        "        end = start + sample_rate\n",
        "        audio_windows.append(audio[start:end])\n",
        "        midi_windows.append(midi[start:end])\n",
        "    return audio_windows, midi_windows"
      ],
      "metadata": {
        "id": "zgz7pe0N7A4T"
      },
      "execution_count": 7,
      "outputs": []
    },
    {
      "cell_type": "code",
      "source": [
        "# Split audio and MIDI into eighth-second windows\n",
        "def split_into_eighth_second_windows(audio, midi, sample_rate):\n",
        "    num_windows = int(len(audio) / (sample_rate / 8))\n",
        "    audio_windows = []\n",
        "    midi_windows = []\n",
        "    for i in range(num_windows):\n",
        "        start = i * (sample_rate / 8)\n",
        "        end = start + (sample_rate / 8)\n",
        "        audio_windows.append(audio[start:end])\n",
        "        midi_windows.append(midi[start:end])\n",
        "    return audio_windows, midi_windows"
      ],
      "metadata": {
        "id": "ZlpDqyas7EBV"
      },
      "execution_count": 8,
      "outputs": []
    },
    {
      "cell_type": "code",
      "source": [
        "# Example usage\n",
        "midi_file = '/content/maestro/maestro-v3.0.0_2011_MIDI-Unprocessed_02_R1_2011_MID--AUDIO_R1-D1_08_Track08_wav.midi'\n",
        "audio = load_midi_to_audio(midi_file)\n",
        "sample_rate = 22050"
      ],
      "metadata": {
        "colab": {
          "base_uri": "https://localhost:8080/",
          "height": 913
        },
        "id": "ebjnnm807UQ_",
        "outputId": "fdea8656-f6a1-4dc1-9d7c-a5217152e023"
      },
      "execution_count": 9,
      "outputs": [
        {
          "output_type": "error",
          "ename": "ImportError",
          "evalue": "fluidsynth() was called but pyfluidsynth is not installed.",
          "traceback": [
            "\u001b[0;31m---------------------------------------------------------------------------\u001b[0m",
            "\u001b[0;31mImportError\u001b[0m                               Traceback (most recent call last)",
            "\u001b[0;32m<ipython-input-9-2b4f90c32b6f>\u001b[0m in \u001b[0;36m<cell line: 3>\u001b[0;34m()\u001b[0m\n\u001b[1;32m      1\u001b[0m \u001b[0;31m# Example usage\u001b[0m\u001b[0;34m\u001b[0m\u001b[0;34m\u001b[0m\u001b[0m\n\u001b[1;32m      2\u001b[0m \u001b[0mmidi_file\u001b[0m \u001b[0;34m=\u001b[0m \u001b[0;34m'/content/maestro/maestro-v3.0.0_2011_MIDI-Unprocessed_02_R1_2011_MID--AUDIO_R1-D1_08_Track08_wav.midi'\u001b[0m\u001b[0;34m\u001b[0m\u001b[0;34m\u001b[0m\u001b[0m\n\u001b[0;32m----> 3\u001b[0;31m \u001b[0maudio\u001b[0m \u001b[0;34m=\u001b[0m \u001b[0mload_midi_to_audio\u001b[0m\u001b[0;34m(\u001b[0m\u001b[0mmidi_file\u001b[0m\u001b[0;34m)\u001b[0m\u001b[0;34m\u001b[0m\u001b[0;34m\u001b[0m\u001b[0m\n\u001b[0m\u001b[1;32m      4\u001b[0m \u001b[0msample_rate\u001b[0m \u001b[0;34m=\u001b[0m \u001b[0;36m22050\u001b[0m\u001b[0;34m\u001b[0m\u001b[0;34m\u001b[0m\u001b[0m\n",
            "\u001b[0;32m<ipython-input-4-e134690fde37>\u001b[0m in \u001b[0;36mload_midi_to_audio\u001b[0;34m(midi_file, sample_rate)\u001b[0m\n\u001b[1;32m      2\u001b[0m \u001b[0;32mdef\u001b[0m \u001b[0mload_midi_to_audio\u001b[0m\u001b[0;34m(\u001b[0m\u001b[0mmidi_file\u001b[0m\u001b[0;34m,\u001b[0m \u001b[0msample_rate\u001b[0m\u001b[0;34m=\u001b[0m\u001b[0;36m22050\u001b[0m\u001b[0;34m)\u001b[0m\u001b[0;34m:\u001b[0m\u001b[0;34m\u001b[0m\u001b[0;34m\u001b[0m\u001b[0m\n\u001b[1;32m      3\u001b[0m     \u001b[0mmidi_data\u001b[0m \u001b[0;34m=\u001b[0m \u001b[0mpretty_midi\u001b[0m\u001b[0;34m.\u001b[0m\u001b[0mPrettyMIDI\u001b[0m\u001b[0;34m(\u001b[0m\u001b[0mmidi_file\u001b[0m\u001b[0;34m)\u001b[0m\u001b[0;34m\u001b[0m\u001b[0;34m\u001b[0m\u001b[0m\n\u001b[0;32m----> 4\u001b[0;31m     \u001b[0maudio\u001b[0m \u001b[0;34m=\u001b[0m \u001b[0mmidi_data\u001b[0m\u001b[0;34m.\u001b[0m\u001b[0mfluidsynth\u001b[0m\u001b[0;34m(\u001b[0m\u001b[0msample_rate\u001b[0m\u001b[0;34m)\u001b[0m\u001b[0;34m\u001b[0m\u001b[0;34m\u001b[0m\u001b[0m\n\u001b[0m\u001b[1;32m      5\u001b[0m \u001b[0;34m\u001b[0m\u001b[0m\n\u001b[1;32m      6\u001b[0m     \u001b[0;32mreturn\u001b[0m \u001b[0maudio\u001b[0m\u001b[0;34m\u001b[0m\u001b[0;34m\u001b[0m\u001b[0m\n",
            "\u001b[0;32m/usr/local/lib/python3.10/dist-packages/pretty_midi/pretty_midi.py\u001b[0m in \u001b[0;36mfluidsynth\u001b[0;34m(self, fs, sf2_path)\u001b[0m\n\u001b[1;32m    972\u001b[0m             \u001b[0;32mreturn\u001b[0m \u001b[0mnp\u001b[0m\u001b[0;34m.\u001b[0m\u001b[0marray\u001b[0m\u001b[0;34m(\u001b[0m\u001b[0;34m[\u001b[0m\u001b[0;34m]\u001b[0m\u001b[0;34m)\u001b[0m\u001b[0;34m\u001b[0m\u001b[0;34m\u001b[0m\u001b[0m\n\u001b[1;32m    973\u001b[0m         \u001b[0;31m# Get synthesized waveform for each instrument\u001b[0m\u001b[0;34m\u001b[0m\u001b[0;34m\u001b[0m\u001b[0m\n\u001b[0;32m--> 974\u001b[0;31m         waveforms = [i.fluidsynth(fs=fs,\n\u001b[0m\u001b[1;32m    975\u001b[0m                                   sf2_path=sf2_path) for i in self.instruments]\n\u001b[1;32m    976\u001b[0m         \u001b[0;31m# Allocate output waveform, with #sample = max length of all waveforms\u001b[0m\u001b[0;34m\u001b[0m\u001b[0;34m\u001b[0m\u001b[0m\n",
            "\u001b[0;32m/usr/local/lib/python3.10/dist-packages/pretty_midi/pretty_midi.py\u001b[0m in \u001b[0;36m<listcomp>\u001b[0;34m(.0)\u001b[0m\n\u001b[1;32m    972\u001b[0m             \u001b[0;32mreturn\u001b[0m \u001b[0mnp\u001b[0m\u001b[0;34m.\u001b[0m\u001b[0marray\u001b[0m\u001b[0;34m(\u001b[0m\u001b[0;34m[\u001b[0m\u001b[0;34m]\u001b[0m\u001b[0;34m)\u001b[0m\u001b[0;34m\u001b[0m\u001b[0;34m\u001b[0m\u001b[0m\n\u001b[1;32m    973\u001b[0m         \u001b[0;31m# Get synthesized waveform for each instrument\u001b[0m\u001b[0;34m\u001b[0m\u001b[0;34m\u001b[0m\u001b[0m\n\u001b[0;32m--> 974\u001b[0;31m         waveforms = [i.fluidsynth(fs=fs,\n\u001b[0m\u001b[1;32m    975\u001b[0m                                   sf2_path=sf2_path) for i in self.instruments]\n\u001b[1;32m    976\u001b[0m         \u001b[0;31m# Allocate output waveform, with #sample = max length of all waveforms\u001b[0m\u001b[0;34m\u001b[0m\u001b[0;34m\u001b[0m\u001b[0m\n",
            "\u001b[0;32m/usr/local/lib/python3.10/dist-packages/pretty_midi/instrument.py\u001b[0m in \u001b[0;36mfluidsynth\u001b[0;34m(self, fs, sf2_path)\u001b[0m\n\u001b[1;32m    454\u001b[0m \u001b[0;34m\u001b[0m\u001b[0m\n\u001b[1;32m    455\u001b[0m         \u001b[0;32mif\u001b[0m \u001b[0;32mnot\u001b[0m \u001b[0m_HAS_FLUIDSYNTH\u001b[0m\u001b[0;34m:\u001b[0m\u001b[0;34m\u001b[0m\u001b[0;34m\u001b[0m\u001b[0m\n\u001b[0;32m--> 456\u001b[0;31m             raise ImportError(\"fluidsynth() was called but pyfluidsynth \"\n\u001b[0m\u001b[1;32m    457\u001b[0m                               \"is not installed.\")\n\u001b[1;32m    458\u001b[0m \u001b[0;34m\u001b[0m\u001b[0m\n",
            "\u001b[0;31mImportError\u001b[0m: fluidsynth() was called but pyfluidsynth is not installed.",
            "",
            "\u001b[0;31m---------------------------------------------------------------------------\u001b[0;32m\nNOTE: If your import is failing due to a missing package, you can\nmanually install dependencies using either !pip or !apt.\n\nTo view examples of installing some common dependencies, click the\n\"Open Examples\" button below.\n\u001b[0;31m---------------------------------------------------------------------------\u001b[0m\n"
          ],
          "errorDetails": {
            "actions": [
              {
                "action": "open_url",
                "actionText": "Open Examples",
                "url": "/notebooks/snippets/importing_libraries.ipynb"
              }
            ]
          }
        }
      ]
    },
    {
      "cell_type": "code",
      "source": [
        "# Create spectrograms using one-second windows\n",
        "audio_windows, midi_windows = split_into_one_second_windows(audio, midi, sample_rate)\n",
        "spectrograms = []\n",
        "for audio_window in audio_windows:\n",
        "    stft_spectrogram = create_stft_spectrogram(audio_window, window_size=2048, hop_length=512)\n",
        "    cqt_spectrogram = create_cqt_spectrogram(audio_window, hop_length=512)\n",
        "    spectrogram = np.stack([stft_spectrogram, cqt_spectrogram], axis=-1)\n",
        "    spectrograms.append(spectrogram)"
      ],
      "metadata": {
        "id": "xwidKCtF7YF-"
      },
      "execution_count": null,
      "outputs": []
    },
    {
      "cell_type": "code",
      "source": [
        "# Create spectrograms using eighth-second windows\n",
        "audio_windows, midi_windows = split_into_eighth_second_windows(audio, midi, sample_rate)\n",
        "spectrograms = []\n",
        "for audio_window in audio_windows:\n",
        "    stft_spectrogram = create_stft_spectrogram(audio_window, window_size=2048, hop_length=512)\n",
        "    cqt_spectrogram = create_cqt_spectrogram(audio_window, hop_length=512)\n",
        "    spectrogram = np.stack([stft_spectrogram, cqt_spectrogram], axis=-1)"
      ],
      "metadata": {
        "id": "mfNVCQ-g7cLb"
      },
      "execution_count": null,
      "outputs": []
    },
    {
      "cell_type": "code",
      "source": [
        "# Train CNN on spectrograms\n",
        "def train_cnn(spectrograms, labels):\n",
        "    model = Sequential()\n",
        "    model.add(Conv2D(32, (3, 3), activation='relu', input_shape=spectrograms.shape[1:]))\n",
        "    model.add(MaxPooling2D((2, 2)))\n",
        "    model.add(Conv2D(64, (3, 3), activation='relu'))\n",
        "    model.add(MaxPooling2D((2, 2)))\n",
        "    model.add(Conv2D(64, (3, 3), activation='relu'))\n",
        "    model.add(Flatten())\n",
        "    model.add(Dense(64, activation='relu'))\n",
        "    model.add(Dense(1, activation='sigmoid'))\n",
        "\n",
        "    model.compile(optimizer='adam',\n",
        "                  loss='binary_crossentropy',\n",
        "                  metrics=['accuracy'])\n",
        "\n",
        "    model.fit(spectrograms, labels, epochs=10, batch_size=32, validation_data=(val_spectrograms, val_labels))\n"
      ],
      "metadata": {
        "id": "cHQZ_GYv7goc"
      },
      "execution_count": null,
      "outputs": []
    },
    {
      "cell_type": "code",
      "source": [
        "# Train CNN on one-second window spectrograms\n",
        "train_cnn(np.array(spectrograms), np.array(midi_windows))"
      ],
      "metadata": {
        "id": "qUJxlKnb7lVl"
      },
      "execution_count": null,
      "outputs": []
    },
    {
      "cell_type": "code",
      "source": [
        "\n",
        "# Train CNN on eighth-second window spectrograms\n",
        "train_cnn(np.array(spectrograms), np.array(midi_windows))"
      ],
      "metadata": {
        "id": "YBshAtNx7mgD"
      },
      "execution_count": null,
      "outputs": []
    }
  ],
  "metadata": {
    "kernelspec": {
      "display_name": "Python 3",
      "language": "python",
      "name": "python3"
    },
    "language_info": {
      "codemirror_mode": {
        "name": "ipython",
        "version": 3
      },
      "file_extension": ".py",
      "mimetype": "text/x-python",
      "name": "python",
      "nbconvert_exporter": "python",
      "pygments_lexer": "ipython3",
      "version": "3.11.9"
    },
    "colab": {
      "provenance": [],
      "include_colab_link": true
    }
  },
  "nbformat": 4,
  "nbformat_minor": 0
}