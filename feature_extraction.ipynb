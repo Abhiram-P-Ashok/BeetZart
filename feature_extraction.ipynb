{
 "cells": [
  {
   "cell_type": "code",
   "execution_count": 1,
   "metadata": {},
   "outputs": [],
   "source": [
    "import librosa\n",
    "import numpy as np\n",
    "import matplotlib.pyplot as plt"
   ]
  },
  {
   "cell_type": "markdown",
   "metadata": {},
   "source": [
    "- `y` : audio time series (one-dimensional NumPy floating-point array)\n",
    "- `sr` : sampling rate of `y` in Hz (samples per second)"
   ]
  },
  {
   "cell_type": "code",
   "execution_count": 2,
   "metadata": {},
   "outputs": [
    {
     "name": "stdout",
     "output_type": "stream",
     "text": [
      "[[-57.88954  -51.745922 -50.44552  ... -56.724396 -56.90844  -59.653687]\n",
      " [-59.635376 -55.861877 -56.418625 ... -62.791557 -62.550415 -62.606735]\n",
      " [-65.10418  -70.754425 -80.       ... -80.       -80.       -72.07278 ]\n",
      " ...\n",
      " [-80.       -80.       -80.       ... -80.       -80.       -80.      ]\n",
      " [-80.       -80.       -80.       ... -80.       -80.       -80.      ]\n",
      " [-80.       -80.       -80.       ... -80.       -80.       -80.      ]]\n"
     ]
    },
    {
     "data": {
      "text/plain": [
       "(1025, 41733)"
      ]
     },
     "execution_count": 2,
     "metadata": {},
     "output_type": "execute_result"
    }
   ],
   "source": [
    "y, sr = librosa.load(\"./output.wav\")\n",
    "# Compute the Short-Time Fourier Transform (STFT)\n",
    "D = np.abs(librosa.stft(y))\n",
    "# Convert the power spectrogram to decibel (dB) units\n",
    "D_db = librosa.amplitude_to_db(D, ref=np.max)\n",
    "print(D_db)\n",
    "D_db.shape"
   ]
  },
  {
   "cell_type": "code",
   "execution_count": 3,
   "metadata": {},
   "outputs": [],
   "source": [
    "plt.figure(figsize=(12,4))\n",
    "librosa.display.specshow(D_db, sr=sr, x_axis='time', y_axis='hz')\n",
    "plt.colorbar(format='%+2.0f dB')\n",
    "plt.title('Spectrogram')"
   ]
  },
  {
   "cell_type": "markdown",
   "metadata": {},
   "source": [
    "Mel-Frequency Cepstral Coefficients (MFCC) "
   ]
  },
  {
   "cell_type": "code",
   "execution_count": null,
   "metadata": {},
   "outputs": [
    {
     "name": "stdout",
     "output_type": "stream",
     "text": [
      "[[-513.63403   -513.63403   -513.63403   ... -507.84384   -509.25534\n",
      "  -509.94458  ]\n",
      " [   0.           0.           0.        ...    8.169073     6.179311\n",
      "     5.2086244]\n",
      " [   0.           0.           0.        ...    8.110659     6.1398478\n",
      "     5.181565 ]\n",
      " ...\n",
      " [   0.           0.           0.        ...    3.561409     3.0573783\n",
      "     3.0367565]\n",
      " [   0.           0.           0.        ...    3.1250706    2.760436\n",
      "     2.8256702]\n",
      " [   0.           0.           0.        ...    2.689445     2.4636517\n",
      "     2.6135416]]\n"
     ]
    },
    {
     "data": {
      "text/plain": [
       "(20, 3289)"
      ]
     },
     "execution_count": 7,
     "metadata": {},
     "output_type": "execute_result"
    }
   ],
   "source": [
    "mfcc = librosa.feature.mfcc(S=D_db, n_mfcc=20)\n",
    "print(mfcc)\n",
    "mfcc.shape"
   ]
  }
 ],
 "metadata": {
  "kernelspec": {
   "display_name": "Python 3",
   "language": "python",
   "name": "python3"
  },
  "language_info": {
   "codemirror_mode": {
    "name": "ipython",
    "version": 3
   },
   "file_extension": ".py",
   "mimetype": "text/x-python",
   "name": "python",
   "nbconvert_exporter": "python",
   "pygments_lexer": "ipython3",
   "version": "3.10.12"
  }
 },
 "nbformat": 4,
 "nbformat_minor": 2
}
